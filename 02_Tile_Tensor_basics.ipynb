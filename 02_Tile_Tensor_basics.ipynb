{
  "cells": [
    {
      "cell_type": "markdown",
      "metadata": {
        "id": "view-in-github",
        "colab_type": "text"
      },
      "source": [
        "<a href=\"https://colab.research.google.com/github/pthread/code/blob/main/02_Tile_Tensor_basics.ipynb\" target=\"_parent\"><img src=\"https://colab.research.google.com/assets/colab-badge.svg\" alt=\"Open In Colab\"/></a>"
      ]
    },
    {
      "cell_type": "markdown",
      "metadata": {
        "id": "B5tb-KXYJC4s"
      },
      "source": [
        "# Tile tensors\n"
      ]
    },
    {
      "cell_type": "code",
      "source": [],
      "metadata": {
        "id": "VJu515wHq-1b"
      },
      "execution_count": null,
      "outputs": []
    },
    {
      "cell_type": "markdown",
      "metadata": {
        "id": "iyILdWC1JC4u"
      },
      "source": [
        "## Introduction\n",
        "This notebook introduces the basics of using packing agnostic programming with [HELayers](https://hub.docker.com/r/ibmcom/helayers-pylab). Specifically, how to include the [pyhelayers](https://hub.docker.com/r/ibmcom/helayers-pylab) library, initialize an encryption context and perform some simple encryption and decryption operations.\n",
        "HELayers and the concept of tile tensors rely on the paper\n",
        "\n",
        "> Ehud Aharoni, Allon Adir, Moran Baruch, Nir Drucker, Gilad Ezov, Ariel Farkash, Lev Greenberg, Ramy Masalha, Guy Moshkowich, Dov Murik, Hayim Shaul, and Omri Soceanu. 2020. HeLayers: A Tile Tensors Framework for Large Neural Networks on Encrypted Data. PoPETs 2023.\n",
        "\n",
        "<details>\n",
        "\n",
        "<summary>Press for other literature on HELayers and tile tensors</summary>\n",
        "\n",
        "#### Packing\n",
        "\n",
        "* Ehud Aharoni, Moran Baruch, Nir Drucker, Gilad Ezov, Eyal Kushnir, Guy Moshkowich, and Omri Soceanu. 2022. Poster: Secure SqueezeNet inference in 4 minutes. 43rd IEEE Symposium on Security and Privacy (2022). [Read more](https://arxiv.org/abs/2011.01805)\n",
        "* Ehud Aharoni, Nir Drucker, Gilad Ezov, Hayim Shaul, and Omri Soceanu. 2022. Complex Encoded Tile Tensors: Accelerating Encrypted Analytics. IEEE Security & Privacy 01, 2–10.\n",
        "[Read more](https://doi.org/10.1109/MSEC.2022.3181689)\n",
        "\n",
        "#### HELayers\n",
        "\n",
        "* John Buselli. 2021. Secure AI workloads using fully homomorphic encrypted data. (Sep 2021). [Read more](https://developer.ibm.com/blogs/secure-ai-workloads-using-fully-homomorphic-encrypted-data/)\n",
        "* IBM. 2021. Fully Homomorphic Encryption (FHE) - Never decrypt your data, even during computation. [Read more](https://fhe-website.mybluemix.net/?_ga=2.94032030.24152571.1666765225-1379575878.1644260568)\n",
        "\n",
        "</details>\n",
        "\n",
        "<br/>This tutorial assumes you are already familiar with the concept of homomorphic encryption (HE), with the CKKS scheme and the operations it supports.\n",
        "\n",
        "<details>\n",
        "\n",
        "<summary>If not, press the button for relevant references</summary>\n",
        "\n",
        "* Cheon, J. H., Kim, A., Kim, M., and Song, Y. (2017). Homomorphic Encryption for Arithmetic of Approximate Numbers. In T. Takagi and T. Peyrin (Eds.), Advances in Cryptology -- ASIACRYPT 2017 (Vol. 1, pp. 409–437). Springer International Publishing. [Read more](https://doi.org/10.1007/978-3-319-70694-8_15)\n",
        "\n",
        "* Cheon, J. H., Han, K., Kim, A., Kim, M., and Song, Y. (2019). A Full RNS Variant of Approximate Homomorphic Encryption. In C. Cid and M. J. Jacobson Jr. (Eds.), Selected Areas in Cryptography -- SAC 2018 (pp. 347–368). Springer International Publishing. [Read more](https://doi.org/10.1007/978-3-030-10970-7_16)\n",
        "    \n",
        "</details>\n",
        "\n",
        "\n",
        "<br>  "
      ]
    },
    {
      "cell_type": "markdown",
      "metadata": {
        "id": "4nxd9HX3JC4x"
      },
      "source": [
        "We start by importing the required packages for this tutorial"
      ]
    },
    {
      "cell_type": "code",
      "execution_count": null,
      "metadata": {
        "id": "uxwqd21qJC4y"
      },
      "outputs": [],
      "source": [
        "import numpy as np\n",
        "import math as math\n",
        "from timeit import default_timer\n",
        "from matplotlib import pyplot as plt\n"
      ]
    },
    {
      "cell_type": "markdown",
      "metadata": {
        "id": "03H7vkJ0JC4y"
      },
      "source": [
        "## Step 1. Importing and initializing\n",
        "\n",
        "Pyhelayers library is the Python API for HELayers, which we first need to import.\n",
        "\n",
        "For demo purposes, we turn on pretty printing of tiles."
      ]
    },
    {
      "cell_type": "code",
      "execution_count": null,
      "metadata": {
        "id": "qjtvj0S2JC4z",
        "outputId": "de3c7047-5e1c-4319-ffb9-60d7d6684c44",
        "colab": {
          "base_uri": "https://localhost:8080/"
        }
      },
      "outputs": [
        {
          "output_type": "stream",
          "name": "stdout",
          "text": [
            "Collecting pyhelayers\n",
            "  Downloading pyhelayers-1.5.3.0-cp310-cp310-manylinux_2_17_x86_64.manylinux2014_x86_64.whl (42.9 MB)\n",
            "\u001b[2K     \u001b[90m━━━━━━━━━━━━━━━━━━━━━━━━━━━━━━━━━━━━━━━━\u001b[0m \u001b[32m42.9/42.9 MB\u001b[0m \u001b[31m13.4 MB/s\u001b[0m eta \u001b[36m0:00:00\u001b[0m\n",
            "\u001b[?25hRequirement already satisfied: numpy>=1.14.5 in /usr/local/lib/python3.10/dist-packages (from pyhelayers) (1.23.5)\n",
            "Installing collected packages: pyhelayers\n",
            "Successfully installed pyhelayers-1.5.3.0\n",
            "Imported pyhelayers 1.5.3.0\n"
          ]
        }
      ],
      "source": [
        "!pip install pyhelayers\n",
        "import pyhelayers\n",
        "\n",
        "print(\"Imported pyhelayers\", pyhelayers.VERSION)\n",
        "\n",
        "pyhelayers.get_print_options().tt_demo_tiles = True"
      ]
    },
    {
      "cell_type": "markdown",
      "metadata": {
        "id": "IYiUgyl4JC40"
      },
      "source": [
        "To use pyhelayers we first need to initialize `HeContext` and a `TTEncoder` object.  \n",
        "(NOTE: to get help on pyhelayers or any of its classes type `help(pyhelayers)` or `help(pyhelayers.HeContext)`, etc...)\n",
        "\n",
        "An HeContext is the main object for accessing the underlying FHE encryption scheme. Once initialized, it generates the keys and all the other data structures required for working with FHE. It is an abstract class with several different concrete implementations, each for a different FHE scheme, or a different open source library implementing these schemes.\n",
        "\n",
        "In this notebook, we will use the `MockupContext`, which is a non-encrypted implementation for quick tests. However, HELayer's APIs abstract away the underlying details, so the same code can later be switched to work with a real FHE scheme by simply changing the HeContext creation.\n",
        "\n",
        "An `HeContext` is initialized with an `HeConfigRequirement` object that defines our requirements from the FHE scheme: e.g., the number of slots in a ciphertext, the maximal multiplication depth of the evaluated circuit, or the security level. For demonstration purposes, we use ciphertexts with only 8 slots. To this end, we create a configuration using the `insecure` method, which explicitly states that the security level is 0. This allows us to use the Mockup implementation.\n",
        "\n",
        "See the FHE basics demo in [pylab](https://ibm.github.io/helayers/pylab/) for more details.\n",
        "\n",
        "Finally, a `TTEncoder` object is responsible for encrypting and decrypting tensors. How it works is the central focus of these demos. Note that in FHE there's also an encoding step which is a preprocessing step before encryption, and similarly a postprocessing decoding step after decryption. Hence, the encryption and decryption methods are called `encode_encrypt` and `decrypt_decode`. In some advanced scenarios, it is useful to perform these steps separately."
      ]
    },
    {
      "cell_type": "code",
      "execution_count": null,
      "metadata": {
        "id": "mjN8g3o5JC41",
        "outputId": "ac6f1eb0-6d53-48b0-a92c-2457bafbad19",
        "colab": {
          "base_uri": "https://localhost:8080/"
        }
      },
      "outputs": [
        {
          "output_type": "stream",
          "name": "stdout",
          "text": [
            "Initialized a context with  8  slots and an encoder object\n"
          ]
        }
      ],
      "source": [
        "# Initialize a mockup context with 8 slots.\n",
        "requirement = pyhelayers.HeConfigRequirement.insecure(\n",
        "    num_slots = 8,                  # Number of slots per ciphertext\n",
        "    multiplication_depth = 2,       # Allow 2 levels of multiplications\n",
        "    fractional_part_precision = 40, # Set the precision to 1/2^40.\n",
        "    integer_part_precision = 20    # Set the largest number to 2^20.\n",
        "    )\n",
        "\n",
        "# Use a mockup HE context and initialize it with the requirements object above.\n",
        "he_context = pyhelayers.MockupContext()\n",
        "he_context.init(requirement)\n",
        "\n",
        "# Create the Encoder using the context.\n",
        "encoder = pyhelayers.TTEncoder(he_context)\n",
        "\n",
        "print(\"Initialized a context with \", he_context.slot_count(), \" slots and an encoder object\")\n"
      ]
    },
    {
      "cell_type": "markdown",
      "metadata": {
        "id": "KyoV7sw-JC42"
      },
      "source": [
        "A $5 \\times 6$ matrix $M$ will serve as the plaintext for the demonstrations.\n",
        "\n"
      ]
    },
    {
      "cell_type": "code",
      "execution_count": null,
      "metadata": {
        "id": "Vi1wD6GsJC43",
        "outputId": "d70122c0-b862-47ce-bdaa-4e424c60658d",
        "colab": {
          "base_uri": "https://localhost:8080/"
        }
      },
      "outputs": [
        {
          "output_type": "stream",
          "name": "stdout",
          "text": [
            "Plaintext matrix M=\n",
            " [[ 0  1  2  3  4  5]\n",
            " [ 6  7  8  9 10 11]\n",
            " [12 13 14 15 16 17]\n",
            " [18 19 20 21 22 23]\n",
            " [24 25 26 27 28 29]]\n"
          ]
        }
      ],
      "source": [
        "def genDemoMatrix(m, n):\n",
        "    \"\"\" Return an m x n matrix with values [0 ,..., m x n - 1].\n",
        "    \"\"\"\n",
        "    return np.arange(0, m*n).reshape((m, n))\n",
        "\n",
        "# Prepare a 5x6 matrix with values [0,...,29].\n",
        "M = genDemoMatrix(5,6)\n",
        "print(\"Plaintext matrix M=\\n\", M)"
      ]
    },
    {
      "cell_type": "markdown",
      "metadata": {
        "id": "U7yaVfFhJC44"
      },
      "source": [
        "<br>\n",
        "\n",
        "## Step 2. Different packings for the same matrix\n",
        "\n",
        "Different packings affect the performance characteristic of every HE solution.\n",
        "We now show how the same marix can be packed in different ways:\n",
        "<ul>\n",
        "    <li> Packing each row of $M$ in a ciphertext</li>\n",
        "    <li> Packing each column of $M$ in a ciphertext</li>\n",
        "    <li> Using a more flexible packing</li>\n",
        "</ul>\n",
        "\n",
        "### Step 2.1. Packing each row of M in a ciphertext\n",
        "We pack $M$ using tiles (ciphertexts) of shape $1 \\times 8$. This effectively places a single row in every ciphertext.\n",
        "Since we have 8 slots and each row has only 6 elements we end up with 8 - 6 = 2 unused slots in each ciphertext.\n",
        "\n",
        "To perform the packing we use the [TTShape object](https//add.a.link). This objects keeps a shape.\n",
        "Subsequently, we ask the encoder to encode and encrypt a tile tensor of M with the shape that we have just defined.\n",
        "\n",
        "When printing the resulting ciphertext $C$, we see the tile tensor shape $\\left[5, \\frac{6}{8}\\right]$ the chain index (CI), and the arrangement of the data inside 5 different tiles, i.e, the external tensor shape is $5 \\times 1$."
      ]
    },
    {
      "cell_type": "code",
      "execution_count": null,
      "metadata": {
        "id": "6tvx0mBoJC45",
        "outputId": "e2e85c1e-3cd0-4783-e105-cf4e6b4f8767",
        "colab": {
          "base_uri": "https://localhost:8080/"
        }
      },
      "outputs": [
        {
          "output_type": "stream",
          "name": "stdout",
          "text": [
            "CTileTensor [5, 6/8] CI=2 tiles=5 memory=-0.000 GB\n",
            "\n",
            "Tile tensor logical content:\n",
            "Tensor[5,6]\n",
            "    0    1    2    3    4    5\n",
            "    6    7    8    9   10   11\n",
            "   12   13   14   15   16   17\n",
            "   18   19   20   21   22   23\n",
            "   24   25   26   27   28   29\n",
            "\n",
            "Tile array:\n",
            "Tile[0,0]                                 \n",
            "+----------------------------------------+\n",
            "|    0    1    2    3    4    5    0    0|\n",
            "+----------------------------------------+\n",
            "\n",
            "Tile[1,0]                                 \n",
            "+----------------------------------------+\n",
            "|    6    7    8    9   10   11    0    0|\n",
            "+----------------------------------------+\n",
            "\n",
            "Tile[2,0]                                 \n",
            "+----------------------------------------+\n",
            "|   12   13   14   15   16   17    0    0|\n",
            "+----------------------------------------+\n",
            "\n",
            "Tile[3,0]                                 \n",
            "+----------------------------------------+\n",
            "|   18   19   20   21   22   23    0    0|\n",
            "+----------------------------------------+\n",
            "\n",
            "Tile[4,0]                                 \n",
            "+----------------------------------------+\n",
            "|   24   25   26   27   28   29    0    0|\n",
            "+----------------------------------------+\n",
            "\n",
            "\n"
          ]
        }
      ],
      "source": [
        "shape = pyhelayers.TTShape([1, 8])\n",
        "C = encoder.encode_encrypt(shape, M)\n",
        "\n",
        "print(C)"
      ]
    },
    {
      "cell_type": "markdown",
      "metadata": {
        "id": "kKTmcyVkJC45"
      },
      "source": [
        "### Step 2.2. Packing each column of M in a ciphertext\n",
        "We pack $M$ using tiles (ciphertext) of shape $8 \\times 1$.\n",
        "This effectively places a singe column in every ciphertext.\n",
        "Since we have 8 slots and each row has only 5 elements we end up with 8-5=3 unused slots in each ciphertext, which we pad with zeros.\n",
        "Here, the tile tensor shape is $\\left[\\frac{5}{8}, 6\\right]$ and the external tensor shape is $1 \\times 6$."
      ]
    },
    {
      "cell_type": "code",
      "execution_count": null,
      "metadata": {
        "id": "YwW9uH11JC46",
        "outputId": "d55a5df7-e2f1-457e-a882-64f094ba3d54",
        "colab": {
          "base_uri": "https://localhost:8080/"
        }
      },
      "outputs": [
        {
          "output_type": "stream",
          "name": "stdout",
          "text": [
            "CTileTensor [5/8, 6] CI=2 tiles=6 memory=-0.000 GB\n",
            "\n",
            "Tile tensor logical content:\n",
            "Tensor[5,6]\n",
            "    0    1    2    3    4    5\n",
            "    6    7    8    9   10   11\n",
            "   12   13   14   15   16   17\n",
            "   18   19   20   21   22   23\n",
            "   24   25   26   27   28   29\n",
            "\n",
            "Tile array:\n",
            "Tile[0,0]  Tile[0,1]  Tile[0,2]  Tile[0,3]  Tile[0,4]  Tile[0,5]\n",
            "+-----+  +-----+  +-----+  +-----+  +-----+  +-----+\n",
            "|    0|  |    1|  |    2|  |    3|  |    4|  |    5|\n",
            "|    6|  |    7|  |    8|  |    9|  |   10|  |   11|\n",
            "|   12|  |   13|  |   14|  |   15|  |   16|  |   17|\n",
            "|   18|  |   19|  |   20|  |   21|  |   22|  |   23|\n",
            "|   24|  |   25|  |   26|  |   27|  |   28|  |   29|\n",
            "|    0|  |    0|  |    0|  |    0|  |    0|  |    0|\n",
            "|    0|  |    0|  |    0|  |    0|  |    0|  |    0|\n",
            "|    0|  |    0|  |    0|  |    0|  |    0|  |    0|\n",
            "+-----+  +-----+  +-----+  +-----+  +-----+  +-----+\n",
            "\n",
            "\n"
          ]
        }
      ],
      "source": [
        "shape = pyhelayers.TTShape([8, 1])\n",
        "cvals = encoder.encode_encrypt(shape, M)\n",
        "\n",
        "print(cvals)"
      ]
    },
    {
      "cell_type": "markdown",
      "metadata": {
        "id": "nozXmHRvJC46"
      },
      "source": [
        "### Step 2.3. Packing with $2\\times 4$ block in each ciphertext\n",
        "In this example, we pack $M$ using tiles of shape $2 \\times 4$.\n",
        "This effectively divides the matrix to sub-blocks and places each one in a ciphertext.\n",
        "Since we have 5 rows which is not divisible by 2, the last row of tiles is padded with a row of zeros.\n",
        "The tile tensor shape is $\\left[\\frac{5}{2}, \\frac{6}{4}\\right]$ and the external tensor shape is $3 \\times 2$."
      ]
    },
    {
      "cell_type": "code",
      "execution_count": null,
      "metadata": {
        "id": "_iOzRAsyJC47",
        "outputId": "592c574b-2116-4392-ae28-430ac133cfb8",
        "colab": {
          "base_uri": "https://localhost:8080/"
        }
      },
      "outputs": [
        {
          "output_type": "stream",
          "name": "stdout",
          "text": [
            "CTileTensor [5/2, 6/4] CI=2 tiles=6 memory=-0.000 GB\n",
            "\n",
            "Tile tensor logical content:\n",
            "Tensor[5,6]\n",
            "    0    1    2    3    4    5\n",
            "    6    7    8    9   10   11\n",
            "   12   13   14   15   16   17\n",
            "   18   19   20   21   22   23\n",
            "   24   25   26   27   28   29\n",
            "\n",
            "Tile array:\n",
            "Tile[0,0]               Tile[0,1]             \n",
            "+--------------------+  +--------------------+\n",
            "|    0    1    2    3|  |    4    5    0    0|\n",
            "|    6    7    8    9|  |   10   11    0    0|\n",
            "+--------------------+  +--------------------+\n",
            "\n",
            "Tile[1,0]               Tile[1,1]             \n",
            "+--------------------+  +--------------------+\n",
            "|   12   13   14   15|  |   16   17    0    0|\n",
            "|   18   19   20   21|  |   22   23    0    0|\n",
            "+--------------------+  +--------------------+\n",
            "\n",
            "Tile[2,0]               Tile[2,1]             \n",
            "+--------------------+  +--------------------+\n",
            "|   24   25   26   27|  |   28   29    0    0|\n",
            "|    0    0    0    0|  |    0    0    0    0|\n",
            "+--------------------+  +--------------------+\n",
            "\n",
            "\n"
          ]
        }
      ],
      "source": [
        "shape = pyhelayers.TTShape([2, 4])\n",
        "cvals = encoder.encode_encrypt(shape, M)\n",
        "\n",
        "print(cvals)"
      ]
    },
    {
      "cell_type": "markdown",
      "metadata": {
        "id": "dx5mL1Q5JC47"
      },
      "source": [
        "### Question\n",
        "What shpe yields the minimal number of tiles when the number of slots in a ciphertext is 16?\n",
        "<details>\n",
        "    <summary> Answer </summary>\n",
        "\n",
        "Tile shape 1x16, Number of tiles = 5, Tile tensor shape = [5, 6/16]<br/>\n",
        "<b>Tile shape 2x8, Number of tiles = 3, Tile tensor shape = [5/2, 6/8]</b><br/>\n",
        "Tile shape 4x4, Number of tiles = 4, Tile tensor shape = [5/4, 6/4]<br/>\n",
        "<b>Tile shape 8x2, Number of tiles = 3, Tile tensor shape = [5/8, 6/2]</b><br/>\n",
        "Tile shape 16x1, Number of tiles = 6, Tile tensor shape = [5/16, 6]<br/><br/>    \n",
        "</details>\n",
        "\n",
        "<br/>\n",
        "What shape yields the minimal number of tiles when the number of slots in a ciphertext is 32?\n",
        "<br/>\n",
        "<details>\n",
        "    <summary> Answer </summary>\n",
        "Tile shape 1x32, Number of tiles = 5, Tile tensor shape = [5, 6/32]<br/>\n",
        "Tile shape 2x16, Number of tiles = 3, Tile tensor shape = [5/2, 6/16]<br/>\n",
        "<b>Tile shape 4x8, Number of tiles = 2, Tile tensor shape = [5/4, 6/8]</b><br/>\n",
        "    <b>Tile shape 8x4, Number of tiles = 2, Tile tensor shape = [5/8, 6/4]</b><br/>\n",
        "Tile shape 16x2, Number of tiles = 3, Tile tensor shape = [5/16, 6/2]<br/>\n",
        "Tile shape 32x1, Number of tiles = 6, Tile tensor shape = [5/32, 6]    <br/><br/>\n",
        "</details>\n",
        "\n",
        "<br/>\n",
        "Use the code below to test your results."
      ]
    },
    {
      "cell_type": "code",
      "execution_count": null,
      "metadata": {
        "id": "bjmznGgpJC48",
        "outputId": "1bfef38d-0e7c-4b25-cc9b-f687786d566e",
        "colab": {
          "base_uri": "https://localhost:8080/"
        }
      },
      "outputs": [
        {
          "output_type": "stream",
          "name": "stdout",
          "text": [
            "Tile shape 1x16, \tNumber of tiles = 5, \tTile tensor shape = [5, 6/16]\n",
            "Tile shape 2x8, \tNumber of tiles = 3, \tTile tensor shape = [5/2, 6/8]\n",
            "Tile shape 4x4, \tNumber of tiles = 4, \tTile tensor shape = [5/4, 6/4]\n",
            "Tile shape 8x2, \tNumber of tiles = 3, \tTile tensor shape = [5/8, 6/2]\n",
            "Tile shape 16x1, \tNumber of tiles = 6, \tTile tensor shape = [5/16, 6]\n"
          ]
        }
      ],
      "source": [
        "# Set s with the required number of slots\n",
        "s = 16\n",
        "\n",
        "# Initialize a mockup context with 8 slots.\n",
        "requirement2 = pyhelayers.HeConfigRequirement.insecure(\n",
        "    num_slots = s,                  # Number of slots per ciphertext\n",
        "    multiplication_depth = 2,       # Allow 2 levels of multiplications\n",
        "    fractional_part_precision = 40, # Set the precision to 1/2^40.\n",
        "    integer_part_precision = 20    # Set the largest number to 2^20.\n",
        "    )\n",
        "\n",
        "# Use a mockup HE context and initialize it with the requirements object above.\n",
        "he_context2 = pyhelayers.MockupContext()\n",
        "he_context2.init(requirement2)\n",
        "\n",
        "# Create the Encoder using the context.\n",
        "encoder2 = pyhelayers.TTEncoder(he_context2)\n",
        "\n",
        "for i in range(int(math.log2(s))+1):\n",
        "    d1 = 2**i\n",
        "    d2 = int(s/d1)\n",
        "    shape2 = pyhelayers.TTShape([d1, d2])\n",
        "    cvals = encoder2.encode_encrypt(shape2, M)\n",
        "    print(f'Tile shape {d1}x{d2}, \\tNumber of tiles = {cvals.get_num_used_tiles()}, \\tTile tensor shape = {cvals.get_shape()}')\n"
      ]
    },
    {
      "cell_type": "markdown",
      "metadata": {
        "id": "zcjsoUbtJC48"
      },
      "source": [
        "## Step 3. A method for matrix-matrix multiplication\n",
        "\n",
        "Given two matrices $A$ and $B$ we would like to compute their product $R=A B$.  When using CKKS, we would like to leverage its single instruction multiple data (SIMD) capabilities. Specifically, we would like to pack the matrices in such a way as to minimize utilize the most number of slots, and minimize the number of operators.\n",
        "\n",
        "It can be shown that $R= A B$ can be computed as follows. Say the shapes of $A$ and $B$ are $[x,y]$ and $[y,z]$ respectively. We'll reshape them to $[x,y,1]$ and $[1,y,z]$. Using broadcasting rules, it can be shown that $R=\\sum^1 (A \\odot B)$ where $\\odot$ is elementwise multiplication, and $\\sum^1$ sums over the second dimension (having index $1$). The result has the shape $[x,1,z]$.\n",
        "\n",
        "Packing $A$ and $B$ into tile tensors $T_A$ and $T_B$ with shapes $[\\frac{x}{t_0},\\frac{y}{t_1},\\frac{*}{t_2}]$ and $[\\frac{*}{t_0},\\frac{y}{t_1},\\frac{z}{t_2}]$ allows us to repeat the same computation under encryption:\n",
        "$T_R=\\sum^1 (T_A \\odot T_B)$. The shape of the tiles $[t_0,t_1,t_2]$ will determine the efficiency of this operation, as we explore next."
      ]
    },
    {
      "cell_type": "code",
      "execution_count": null,
      "metadata": {
        "id": "4MazbrSWJC48"
      },
      "outputs": [],
      "source": [
        "def matMul(x,y,z, t0,t1,t2):\n",
        "    assert t0*t1*t2 == he_context.slot_count(), \"tile must be the same size as number of slots\"\n",
        "\n",
        "    he_context.start_operation_count_track()\n",
        "\n",
        "    # Generate the input matrix X and weights vector w (in plaintext)\n",
        "    A = genDemoMatrix(x,y)\n",
        "    B = genDemoMatrix(y,z)\n",
        "\n",
        "    # Compute and set the tile tensors dimensions\n",
        "    shapeA = pyhelayers.TTShape([t0,t1,t2]).get_with_duplicated_dim(2)\n",
        "    shapeB = pyhelayers.TTShape([t0,t1,t2]).get_with_duplicated_dim(0)\n",
        "\n",
        "    # Encrypt the input matrix\n",
        "    TA = encoder.encode_encrypt(shapeA, np.reshape(A,[x,y,1]))\n",
        "    TB = encoder.encode_encrypt(shapeB, np.reshape(B,[1,y,z]))\n",
        "\n",
        "    print(\"Tile tensor for A:\\n\", TA)\n",
        "    print(\"Tile tensor for B:\\n\",TB)\n",
        "\n",
        "    TR=TA\n",
        "    TR.multiply_and_sum(TB,1)\n",
        "    print(\"Tile tensor for R=\", TR)\n",
        "    print(he_context.get_stats_and_clear())\n",
        "\n",
        "    # Verify we got it right\n",
        "    res1=encoder.decrypt_decode_double(TR)\n",
        "    res2=np.matmul(A,B)\n",
        "    # Remove unused dim\n",
        "    res1=np.squeeze(res1)\n",
        "    err=np.max(res1-res2)\n",
        "    print('Maximal error',err)\n"
      ]
    },
    {
      "cell_type": "markdown",
      "metadata": {
        "id": "V73BUAEAJC49"
      },
      "source": [
        "#### Mat-mul for shapes [4,6] and [6,5] with tile shape [8,1,1]\n",
        "\n",
        "This option packs the first matrix column by column. The second matrix has each element packed in a separate tile, fully duplicated."
      ]
    },
    {
      "cell_type": "code",
      "execution_count": null,
      "metadata": {
        "id": "5RlMxA9jJC49",
        "outputId": "bfe76105-4b0c-4127-aae4-ee5b3c4cc06e",
        "colab": {
          "base_uri": "https://localhost:8080/"
        }
      },
      "outputs": [
        {
          "output_type": "stream",
          "name": "stdout",
          "text": [
            "Tile tensor for A:\n",
            " CTileTensor [4/8, 6, 1] CI=2 tiles=6 memory=-0.000 GB\n",
            "\n",
            "Tile tensor logical content:\n",
            "Tensor[4,6]\n",
            "    0    1    2    3    4    5\n",
            "    6    7    8    9   10   11\n",
            "   12   13   14   15   16   17\n",
            "   18   19   20   21   22   23\n",
            "\n",
            "Tile array:\n",
            "Tile[0,0,0]\n",
            "+-----+\n",
            "|    0|\n",
            "|    6|\n",
            "|   12|\n",
            "|   18|\n",
            "|    0|\n",
            "|    0|\n",
            "|    0|\n",
            "|    0|\n",
            "+-----+\n",
            "\n",
            "Tile[0,1,0]\n",
            "+-----+\n",
            "|    1|\n",
            "|    7|\n",
            "|   13|\n",
            "|   19|\n",
            "|    0|\n",
            "|    0|\n",
            "|    0|\n",
            "|    0|\n",
            "+-----+\n",
            "\n",
            "Tile[0,2,0]\n",
            "+-----+\n",
            "|    2|\n",
            "|    8|\n",
            "|   14|\n",
            "|   20|\n",
            "|    0|\n",
            "|    0|\n",
            "|    0|\n",
            "|    0|\n",
            "+-----+\n",
            "\n",
            "Tile[0,3,0]\n",
            "+-----+\n",
            "|    3|\n",
            "|    9|\n",
            "|   15|\n",
            "|   21|\n",
            "|    0|\n",
            "|    0|\n",
            "|    0|\n",
            "|    0|\n",
            "+-----+\n",
            "\n",
            "Tile[0,4,0]\n",
            "+-----+\n",
            "|    4|\n",
            "|   10|\n",
            "|   16|\n",
            "|   22|\n",
            "|    0|\n",
            "|    0|\n",
            "|    0|\n",
            "|    0|\n",
            "+-----+\n",
            "\n",
            "Tile[0,5,0]\n",
            "+-----+\n",
            "|    5|\n",
            "|   11|\n",
            "|   17|\n",
            "|   23|\n",
            "|    0|\n",
            "|    0|\n",
            "|    0|\n",
            "|    0|\n",
            "+-----+\n",
            "\n",
            "\n",
            "Tile tensor for B:\n",
            " CTileTensor [*/8, 6, 5] CI=2 tiles=30 memory=-0.000 GB\n",
            "\n",
            "Tile tensor logical content:\n",
            "Tensor[6,5]\n",
            "    0    1    2    3    4\n",
            "    5    6    7    8    9\n",
            "   10   11   12   13   14\n",
            "   15   16   17   18   19\n",
            "   20   21   22   23   24\n",
            "   25   26   27   28   29\n",
            "\n",
            "Tile array:\n",
            "Tile[0,0,0]  Tile[0,0,1]  Tile[0,0,2]  Tile[0,0,3]  Tile[0,0,4]\n",
            "+-----+  +-----+  +-----+  +-----+  +-----+\n",
            "|    0|  |    1|  |    2|  |    3|  |    4|\n",
            "|    0|  |    1|  |    2|  |    3|  |    4|\n",
            "|    0|  |    1|  |    2|  |    3|  |    4|\n",
            "|    0|  |    1|  |    2|  |    3|  |    4|\n",
            "|    0|  |    1|  |    2|  |    3|  |    4|\n",
            "|    0|  |    1|  |    2|  |    3|  |    4|\n",
            "|    0|  |    1|  |    2|  |    3|  |    4|\n",
            "|    0|  |    1|  |    2|  |    3|  |    4|\n",
            "+-----+  +-----+  +-----+  +-----+  +-----+\n",
            "\n",
            "Tile[0,1,0]  Tile[0,1,1]  Tile[0,1,2]  Tile[0,1,3]  Tile[0,1,4]\n",
            "+-----+  +-----+  +-----+  +-----+  +-----+\n",
            "|    5|  |    6|  |    7|  |    8|  |    9|\n",
            "|    5|  |    6|  |    7|  |    8|  |    9|\n",
            "|    5|  |    6|  |    7|  |    8|  |    9|\n",
            "|    5|  |    6|  |    7|  |    8|  |    9|\n",
            "|    5|  |    6|  |    7|  |    8|  |    9|\n",
            "|    5|  |    6|  |    7|  |    8|  |    9|\n",
            "|    5|  |    6|  |    7|  |    8|  |    9|\n",
            "|    5|  |    6|  |    7|  |    8|  |    9|\n",
            "+-----+  +-----+  +-----+  +-----+  +-----+\n",
            "\n",
            "Tile[0,2,0]  Tile[0,2,1]  Tile[0,2,2]  Tile[0,2,3]  Tile[0,2,4]\n",
            "+-----+  +-----+  +-----+  +-----+  +-----+\n",
            "|   10|  |   11|  |   12|  |   13|  |   14|\n",
            "|   10|  |   11|  |   12|  |   13|  |   14|\n",
            "|   10|  |   11|  |   12|  |   13|  |   14|\n",
            "|   10|  |   11|  |   12|  |   13|  |   14|\n",
            "|   10|  |   11|  |   12|  |   13|  |   14|\n",
            "|   10|  |   11|  |   12|  |   13|  |   14|\n",
            "|   10|  |   11|  |   12|  |   13|  |   14|\n",
            "|   10|  |   11|  |   12|  |   13|  |   14|\n",
            "+-----+  +-----+  +-----+  +-----+  +-----+\n",
            "\n",
            "Tile[0,3,0]  Tile[0,3,1]  Tile[0,3,2]  Tile[0,3,3]  Tile[0,3,4]\n",
            "+-----+  +-----+  +-----+  +-----+  +-----+\n",
            "|   15|  |   16|  |   17|  |   18|  |   19|\n",
            "|   15|  |   16|  |   17|  |   18|  |   19|\n",
            "|   15|  |   16|  |   17|  |   18|  |   19|\n",
            "|   15|  |   16|  |   17|  |   18|  |   19|\n",
            "|   15|  |   16|  |   17|  |   18|  |   19|\n",
            "|   15|  |   16|  |   17|  |   18|  |   19|\n",
            "|   15|  |   16|  |   17|  |   18|  |   19|\n",
            "|   15|  |   16|  |   17|  |   18|  |   19|\n",
            "+-----+  +-----+  +-----+  +-----+  +-----+\n",
            "\n",
            "Tile[0,4,0]  Tile[0,4,1]  Tile[0,4,2]  Tile[0,4,3]  Tile[0,4,4]\n",
            "+-----+  +-----+  +-----+  +-----+  +-----+\n",
            "|   20|  |   21|  |   22|  |   23|  |   24|\n",
            "|   20|  |   21|  |   22|  |   23|  |   24|\n",
            "|   20|  |   21|  |   22|  |   23|  |   24|\n",
            "|   20|  |   21|  |   22|  |   23|  |   24|\n",
            "|   20|  |   21|  |   22|  |   23|  |   24|\n",
            "|   20|  |   21|  |   22|  |   23|  |   24|\n",
            "|   20|  |   21|  |   22|  |   23|  |   24|\n",
            "|   20|  |   21|  |   22|  |   23|  |   24|\n",
            "+-----+  +-----+  +-----+  +-----+  +-----+\n",
            "\n",
            "Tile[0,5,0]  Tile[0,5,1]  Tile[0,5,2]  Tile[0,5,3]  Tile[0,5,4]\n",
            "+-----+  +-----+  +-----+  +-----+  +-----+\n",
            "|   25|  |   26|  |   27|  |   28|  |   29|\n",
            "|   25|  |   26|  |   27|  |   28|  |   29|\n",
            "|   25|  |   26|  |   27|  |   28|  |   29|\n",
            "|   25|  |   26|  |   27|  |   28|  |   29|\n",
            "|   25|  |   26|  |   27|  |   28|  |   29|\n",
            "|   25|  |   26|  |   27|  |   28|  |   29|\n",
            "|   25|  |   26|  |   27|  |   28|  |   29|\n",
            "|   25|  |   26|  |   27|  |   28|  |   29|\n",
            "+-----+  +-----+  +-----+  +-----+  +-----+\n",
            "\n",
            "\n",
            "Tile tensor for R= CTileTensor [4/8, 1, 5] CI=1 tiles=5 memory=-0.000 GB\n",
            "\n",
            "Tile tensor logical content:\n",
            "Tensor[4,5]\n",
            "  275  290  305  320  335\n",
            "  725  776  827  878  929\n",
            "1.18e+031.26e+031.35e+031.44e+031.52e+03\n",
            "1.62e+031.75e+031.87e+031.99e+032.12e+03\n",
            "\n",
            "Tile array:\n",
            "Tile[0,0,0]  Tile[0,0,1]  Tile[0,0,2]  Tile[0,0,3]  Tile[0,0,4]\n",
            "+--------+  +--------+  +--------+  +--------+  +--------+\n",
            "|  275   |  |  290   |  |  305   |  |  320   |  |  335   |\n",
            "|  725   |  |  776   |  |  827   |  |  878   |  |  929   |\n",
            "|1.18e+03|  |1.26e+03|  |1.35e+03|  |1.44e+03|  |1.52e+03|\n",
            "|1.62e+03|  |1.75e+03|  |1.87e+03|  |1.99e+03|  |2.12e+03|\n",
            "|    0   |  |    0   |  |    0   |  |    0   |  |    0   |\n",
            "|    0   |  |    0   |  |    0   |  |    0   |  |    0   |\n",
            "|    0   |  |    0   |  |    0   |  |    0   |  |    0   |\n",
            "|    0   |  |    0   |  |    0   |  |    0   |  |    0   |\n",
            "+--------+  +--------+  +--------+  +--------+  +--------+\n",
            "\n",
            "\n",
            "Run stats\n",
            "encode         :   36\n",
            "encrypt        :   36\n",
            "decodeDouble   :   82\n",
            "decrypt        :   41\n",
            "copy           :   35\n",
            "add            :   25\n",
            "relinearize    :    5\n",
            "multiply       :   30\n",
            "rescale        :    5\n",
            "\n",
            "Maximal error 0.0\n"
          ]
        }
      ],
      "source": [
        "matMul(4,6,5, 8,1,1)"
      ]
    },
    {
      "cell_type": "markdown",
      "metadata": {
        "id": "USaRKQS-JC49"
      },
      "source": [
        "This method requires many multiplications: 30, but no rotations.\n",
        "\n",
        "#### Mat-mul for shapes [4,6] and [6,5] with tile shape [4,2,1]"
      ]
    },
    {
      "cell_type": "code",
      "execution_count": null,
      "metadata": {
        "id": "Ni2BHGTQJC4-",
        "outputId": "914e5a42-ccaa-4803-e80c-af44445b85c1",
        "colab": {
          "base_uri": "https://localhost:8080/"
        }
      },
      "outputs": [
        {
          "output_type": "stream",
          "name": "stdout",
          "text": [
            "Tile tensor for A:\n",
            " CTileTensor [4/4, 6/2, 1] CI=2 tiles=3 memory=-0.000 GB\n",
            "\n",
            "Tile tensor logical content:\n",
            "Tensor[4,6]\n",
            "    0    1    2    3    4    5\n",
            "    6    7    8    9   10   11\n",
            "   12   13   14   15   16   17\n",
            "   18   19   20   21   22   23\n",
            "\n",
            "Tile array:\n",
            "Tile[0,0,0] \n",
            "+----------+\n",
            "|    0    1|\n",
            "|    6    7|\n",
            "|   12   13|\n",
            "|   18   19|\n",
            "+----------+\n",
            "\n",
            "Tile[0,1,0] \n",
            "+----------+\n",
            "|    2    3|\n",
            "|    8    9|\n",
            "|   14   15|\n",
            "|   20   21|\n",
            "+----------+\n",
            "\n",
            "Tile[0,2,0] \n",
            "+----------+\n",
            "|    4    5|\n",
            "|   10   11|\n",
            "|   16   17|\n",
            "|   22   23|\n",
            "+----------+\n",
            "\n",
            "\n",
            "Tile tensor for B:\n",
            " CTileTensor [*/4, 6/2, 5] CI=2 tiles=15 memory=-0.000 GB\n",
            "\n",
            "Tile tensor logical content:\n",
            "Tensor[6,5]\n",
            "    0    1    2    3    4\n",
            "    5    6    7    8    9\n",
            "   10   11   12   13   14\n",
            "   15   16   17   18   19\n",
            "   20   21   22   23   24\n",
            "   25   26   27   28   29\n",
            "\n",
            "Tile array:\n",
            "Tile[0,0,0]   Tile[0,0,1]   Tile[0,0,2]   Tile[0,0,3]   Tile[0,0,4] \n",
            "+----------+  +----------+  +----------+  +----------+  +----------+\n",
            "|    0    5|  |    1    6|  |    2    7|  |    3    8|  |    4    9|\n",
            "|    0    5|  |    1    6|  |    2    7|  |    3    8|  |    4    9|\n",
            "|    0    5|  |    1    6|  |    2    7|  |    3    8|  |    4    9|\n",
            "|    0    5|  |    1    6|  |    2    7|  |    3    8|  |    4    9|\n",
            "+----------+  +----------+  +----------+  +----------+  +----------+\n",
            "\n",
            "Tile[0,1,0]   Tile[0,1,1]   Tile[0,1,2]   Tile[0,1,3]   Tile[0,1,4] \n",
            "+----------+  +----------+  +----------+  +----------+  +----------+\n",
            "|   10   15|  |   11   16|  |   12   17|  |   13   18|  |   14   19|\n",
            "|   10   15|  |   11   16|  |   12   17|  |   13   18|  |   14   19|\n",
            "|   10   15|  |   11   16|  |   12   17|  |   13   18|  |   14   19|\n",
            "|   10   15|  |   11   16|  |   12   17|  |   13   18|  |   14   19|\n",
            "+----------+  +----------+  +----------+  +----------+  +----------+\n",
            "\n",
            "Tile[0,2,0]   Tile[0,2,1]   Tile[0,2,2]   Tile[0,2,3]   Tile[0,2,4] \n",
            "+----------+  +----------+  +----------+  +----------+  +----------+\n",
            "|   20   25|  |   21   26|  |   22   27|  |   23   28|  |   24   29|\n",
            "|   20   25|  |   21   26|  |   22   27|  |   23   28|  |   24   29|\n",
            "|   20   25|  |   21   26|  |   22   27|  |   23   28|  |   24   29|\n",
            "|   20   25|  |   21   26|  |   22   27|  |   23   28|  |   24   29|\n",
            "+----------+  +----------+  +----------+  +----------+  +----------+\n",
            "\n",
            "\n",
            "Tile tensor for R= CTileTensor [4/4, 1?/2, 5] CI=1 tiles=5 memory=-0.000 GB\n",
            "\n",
            "Tile tensor logical content:\n",
            "Tensor[4,5]\n",
            "  275  290  305  320  335\n",
            "  725  776  827  878  929\n",
            "1.18e+031.26e+031.35e+031.44e+031.52e+03\n",
            "1.62e+031.75e+031.87e+031.99e+032.12e+03\n",
            "\n",
            "Tile array:\n",
            "Tile[0,0,0]         Tile[0,0,1]         Tile[0,0,2]         Tile[0,0,3]         Tile[0,0,4]       \n",
            "+----------------+  +----------------+  +----------------+  +----------------+  +----------------+\n",
            "|  275  455      |  |  290  488      |  |  305  521      |  |  320  554      |  |  335  587      |\n",
            "|  725  905      |  |  776  974      |  |  8271.04e+03   |  |  8781.11e+03   |  |  9291.18e+03   |\n",
            "|1.18e+031.36e+03|  |1.26e+031.46e+03|  |1.35e+031.56e+03|  |1.44e+031.67e+03|  |1.52e+031.78e+03|\n",
            "|1.62e+031.08e+03|  |1.75e+031.15e+03|  |1.87e+031.22e+03|  |1.99e+031.29e+03|  |2.12e+031.36e+03|\n",
            "+----------------+  +----------------+  +----------------+  +----------------+  +----------------+\n",
            "\n",
            "\n",
            "Run stats\n",
            "encode         :   18\n",
            "encrypt        :   18\n",
            "decodeDouble   :   46\n",
            "decrypt        :   23\n",
            "copy           :   25\n",
            "add            :   15\n",
            "relinearize    :    5\n",
            "rotate         :    5\n",
            "multiply       :   15\n",
            "rescale        :    5\n",
            "\n",
            "Maximal error 0.0\n"
          ]
        }
      ],
      "source": [
        "matMul(4,6,5, 4,2,1)"
      ]
    },
    {
      "cell_type": "markdown",
      "metadata": {
        "id": "7jHYUSPVJC4-"
      },
      "source": [
        "This method required much less multiplications: only 15. But it added 5 rotations.\n",
        "The tiles of the result contain junk values in their second column, as indicated by the 1?/2 notation in their shape.\n",
        "\n",
        "#### Mat-mul for shapes [4,6] and [6,5] with tile shape [4,1,2]"
      ]
    },
    {
      "cell_type": "code",
      "execution_count": null,
      "metadata": {
        "id": "Vxgi3zFFJC4_",
        "outputId": "ff900573-2a71-470d-80f4-458b2edf5b28",
        "colab": {
          "base_uri": "https://localhost:8080/"
        }
      },
      "outputs": [
        {
          "output_type": "stream",
          "name": "stdout",
          "text": [
            "Tile tensor for A:\n",
            " CTileTensor [4/4, 6, */2] CI=2 tiles=6 memory=-0.000 GB\n",
            "\n",
            "Tile tensor logical content:\n",
            "Tensor[4,6]\n",
            "    0    1    2    3    4    5\n",
            "    6    7    8    9   10   11\n",
            "   12   13   14   15   16   17\n",
            "   18   19   20   21   22   23\n",
            "\n",
            "Tile array:\n",
            "Tile[0,0,0] \n",
            "+----------+\n",
            "|    0    0|\n",
            "|    6    6|\n",
            "|   12   12|\n",
            "|   18   18|\n",
            "+----------+\n",
            "\n",
            "Tile[0,1,0] \n",
            "+----------+\n",
            "|    1    1|\n",
            "|    7    7|\n",
            "|   13   13|\n",
            "|   19   19|\n",
            "+----------+\n",
            "\n",
            "Tile[0,2,0] \n",
            "+----------+\n",
            "|    2    2|\n",
            "|    8    8|\n",
            "|   14   14|\n",
            "|   20   20|\n",
            "+----------+\n",
            "\n",
            "Tile[0,3,0] \n",
            "+----------+\n",
            "|    3    3|\n",
            "|    9    9|\n",
            "|   15   15|\n",
            "|   21   21|\n",
            "+----------+\n",
            "\n",
            "Tile[0,4,0] \n",
            "+----------+\n",
            "|    4    4|\n",
            "|   10   10|\n",
            "|   16   16|\n",
            "|   22   22|\n",
            "+----------+\n",
            "\n",
            "Tile[0,5,0] \n",
            "+----------+\n",
            "|    5    5|\n",
            "|   11   11|\n",
            "|   17   17|\n",
            "|   23   23|\n",
            "+----------+\n",
            "\n",
            "\n",
            "Tile tensor for B:\n",
            " CTileTensor [*/4, 6, 5/2] CI=2 tiles=18 memory=-0.000 GB\n",
            "\n",
            "Tile tensor logical content:\n",
            "Tensor[6,5]\n",
            "    0    1    2    3    4\n",
            "    5    6    7    8    9\n",
            "   10   11   12   13   14\n",
            "   15   16   17   18   19\n",
            "   20   21   22   23   24\n",
            "   25   26   27   28   29\n",
            "\n",
            "Tile array:\n",
            "Tile[0,0,0]   Tile[0,0,1]   Tile[0,0,2] \n",
            "+----------+  +----------+  +----------+\n",
            "|    0    1|  |    2    3|  |    4    0|\n",
            "|    0    1|  |    2    3|  |    4    0|\n",
            "|    0    1|  |    2    3|  |    4    0|\n",
            "|    0    1|  |    2    3|  |    4    0|\n",
            "+----------+  +----------+  +----------+\n",
            "\n",
            "Tile[0,1,0]   Tile[0,1,1]   Tile[0,1,2] \n",
            "+----------+  +----------+  +----------+\n",
            "|    5    6|  |    7    8|  |    9    0|\n",
            "|    5    6|  |    7    8|  |    9    0|\n",
            "|    5    6|  |    7    8|  |    9    0|\n",
            "|    5    6|  |    7    8|  |    9    0|\n",
            "+----------+  +----------+  +----------+\n",
            "\n",
            "Tile[0,2,0]   Tile[0,2,1]   Tile[0,2,2] \n",
            "+----------+  +----------+  +----------+\n",
            "|   10   11|  |   12   13|  |   14    0|\n",
            "|   10   11|  |   12   13|  |   14    0|\n",
            "|   10   11|  |   12   13|  |   14    0|\n",
            "|   10   11|  |   12   13|  |   14    0|\n",
            "+----------+  +----------+  +----------+\n",
            "\n",
            "Tile[0,3,0]   Tile[0,3,1]   Tile[0,3,2] \n",
            "+----------+  +----------+  +----------+\n",
            "|   15   16|  |   17   18|  |   19    0|\n",
            "|   15   16|  |   17   18|  |   19    0|\n",
            "|   15   16|  |   17   18|  |   19    0|\n",
            "|   15   16|  |   17   18|  |   19    0|\n",
            "+----------+  +----------+  +----------+\n",
            "\n",
            "Tile[0,4,0]   Tile[0,4,1]   Tile[0,4,2] \n",
            "+----------+  +----------+  +----------+\n",
            "|   20   21|  |   22   23|  |   24    0|\n",
            "|   20   21|  |   22   23|  |   24    0|\n",
            "|   20   21|  |   22   23|  |   24    0|\n",
            "|   20   21|  |   22   23|  |   24    0|\n",
            "+----------+  +----------+  +----------+\n",
            "\n",
            "Tile[0,5,0]   Tile[0,5,1]   Tile[0,5,2] \n",
            "+----------+  +----------+  +----------+\n",
            "|   25   26|  |   27   28|  |   29    0|\n",
            "|   25   26|  |   27   28|  |   29    0|\n",
            "|   25   26|  |   27   28|  |   29    0|\n",
            "|   25   26|  |   27   28|  |   29    0|\n",
            "+----------+  +----------+  +----------+\n",
            "\n",
            "\n",
            "Tile tensor for R= CTileTensor [4/4, 1, 5/2] CI=1 tiles=3 memory=-0.000 GB\n",
            "\n",
            "Tile tensor logical content:\n",
            "Tensor[4,5]\n",
            "  275  290  305  320  335\n",
            "  725  776  827  878  929\n",
            "1.18e+031.26e+031.35e+031.44e+031.52e+03\n",
            "1.62e+031.75e+031.87e+031.99e+032.12e+03\n",
            "\n",
            "Tile array:\n",
            "Tile[0,0,0]         Tile[0,0,1]         Tile[0,0,2]    \n",
            "+----------------+  +----------------+  +-------------+\n",
            "|  275  290      |  |  305  320      |  |  335    0   |\n",
            "|  725  776      |  |  827  878      |  |  929    0   |\n",
            "|1.18e+031.26e+03|  |1.35e+031.44e+03|  |1.52e+03    0|\n",
            "|1.62e+031.75e+03|  |1.87e+031.99e+03|  |2.12e+03    0|\n",
            "+----------------+  +----------------+  +-------------+\n",
            "\n",
            "\n",
            "Run stats\n",
            "encode         :   24\n",
            "encrypt        :   24\n",
            "decodeDouble   :   54\n",
            "decrypt        :   27\n",
            "copy           :   21\n",
            "add            :   15\n",
            "relinearize    :    3\n",
            "multiply       :   18\n",
            "rescale        :    3\n",
            "\n",
            "Maximal error 0.0\n"
          ]
        }
      ],
      "source": [
        "matMul(4,6,5, 4,1,2)"
      ]
    },
    {
      "cell_type": "markdown",
      "metadata": {
        "id": "ejq6HTdKJC4_"
      },
      "source": [
        "The last option resulted with a little more multiplications: 18.\n",
        "But it performs no rotations, and also the number of relinearizations has dropped from 5 to 3.\n",
        "\n",
        "## Step 4. Linear regression - secure benchmarks\n"
      ]
    },
    {
      "cell_type": "markdown",
      "source": [
        "Let us set up a secure context"
      ],
      "metadata": {
        "id": "Pr04oSx9VGJS"
      }
    },
    {
      "cell_type": "code",
      "source": [
        "\n",
        "\n",
        "# Initialize a CKKS context with 16,384 slots.\n",
        "requirement = pyhelayers.HeConfigRequirement(\n",
        "    num_slots = 8*1024,            # Number of slots per ciphertext\n",
        "    multiplication_depth = 1,       # Allow 1 levels of multiplications\n",
        "    fractional_part_precision = 40, # Set the precision to 1/2^40.\n",
        "    integer_part_precision = 20,    # Set the largest number to 2^20.\n",
        "    security_level = 128)\n",
        "\n",
        "# Use an HE context that uses Micorsoft SEAL\n",
        "he_context = pyhelayers.SealCkksContext()\n",
        "he_context.init(requirement)\n",
        "print(\"Initialized a context with \", he_context.slot_count(), \" slots\")\n",
        "\n",
        "# Create the Encoder using the context.\n",
        "encoder = pyhelayers.TTEncoder(he_context)"
      ],
      "metadata": {
        "colab": {
          "base_uri": "https://localhost:8080/"
        },
        "id": "93F5vwsQVFcc",
        "outputId": "1d297992-7762-456d-a081-8a7655251820"
      },
      "execution_count": null,
      "outputs": [
        {
          "output_type": "stream",
          "name": "stdout",
          "text": [
            "Initialized a context with  8192  slots\n"
          ]
        }
      ]
    },
    {
      "cell_type": "markdown",
      "source": [
        "Here is our function that computes linear regression over a batch of samples. This time we added code for measuring time and memory."
      ],
      "metadata": {
        "id": "ARZPP9mFVWDI"
      }
    },
    {
      "cell_type": "code",
      "source": [
        "\n",
        "def print_stats(s):\n",
        "    print(\"Latency = \", s[0], \" seconds.\")\n",
        "    print(\"Amortized latency = \", s[1], \" seconds per input.\")\n",
        "    print(\"RAM of tile tensors = \", (s[2]/1024/1024), \"MB.\")\n",
        "\n",
        "def plotGraphs(logRange, allLat, allMem):\n",
        "\n",
        "    mainFig, axLeft = plt.subplots()\n",
        "\n",
        "    # Plot a graph between alpha and the latency\n",
        "    axLeft.set_xlabel(\"log tile 0\")\n",
        "    axLeft.set_ylabel(\"latency (sec.)\")\n",
        "    axLeft.plot(logRange,allLat,color='blue')\n",
        "\n",
        "    axRight=axLeft.twinx()\n",
        "    axRight.set_ylabel(\"Memory (MB)\")\n",
        "    axRight.plot(logRange,allMem,color='red')\n",
        "    plt.show()\n",
        "\n",
        "\n",
        "def linearRegressionStats(numSamples, numFeatures, tileSize0, tileSize1):\n",
        "    assert tileSize0*tileSize1 == he_context.slot_count(), \"tile must be the same size as number of slots\"\n",
        "    #print(f\"Tile shape [{tileSize0},{tileSize1}]\")\n",
        "    # Generate the input matrix X and weights vector w (in plaintext)\n",
        "    X = genDemoMatrix(numSamples,numFeatures)\n",
        "    w = genDemoMatrix(1,numFeatures)\n",
        "\n",
        "    # Compute and set the tile tensors dimensions\n",
        "    shapeX = pyhelayers.TTShape([tileSize0, tileSize1])\n",
        "    shapeW = pyhelayers.TTShape([tileSize0, tileSize1]).get_with_duplicated_dim(0)\n",
        "\n",
        "    # Encrypt the input matrix\n",
        "    cX = encoder.encode_encrypt(shapeX, X)\n",
        "    cW = encoder.encode_encrypt(shapeW, w)\n",
        "\n",
        "    estMemW = cW.get_estimated_memory_usage_bytes()\n",
        "    estMemX = cX.get_estimated_memory_usage_bytes()\n",
        "\n",
        "\n",
        "    # Compute and print the inference results\n",
        "    cY = cX\n",
        "    startTime = default_timer()\n",
        "    cY.multiply_and_sum(cW,1)\n",
        "    latency         = default_timer() - startTime\n",
        "    amortized_latency= latency/numSamples\n",
        "\n",
        "    estMemY=cY.get_estimated_memory_usage_bytes()\n",
        "\n",
        "    total_mem=(estMemW+estMemX+estMemY)/1024.0/1024.0\n",
        "\n",
        "    #print_stats([latency,amortized_latency,total_mem])\n",
        "\n",
        "    return latency,total_mem\n",
        "\n",
        "\n"
      ],
      "metadata": {
        "id": "nphZNmcjVuc1"
      },
      "execution_count": null,
      "outputs": []
    },
    {
      "cell_type": "code",
      "source": [
        "num_samples=10\n",
        "num_features=200\n",
        "\n",
        "allMem=[]\n",
        "allLat=[]\n",
        "logRange=range(3,14)\n",
        "for i in logRange:\n",
        "  tile_size0=2**i\n",
        "  tile_size1=8192/tile_size0\n",
        "\n",
        "  lat,mem=linearRegressionStats(num_samples,num_features, tile_size0, tile_size1)\n",
        "  allLat.append(lat)\n",
        "  allMem.append(mem)\n",
        "\n",
        "\n",
        "plotGraphs(logRange, allLat, allMem)"
      ],
      "metadata": {
        "colab": {
          "base_uri": "https://localhost:8080/",
          "height": 449
        },
        "id": "Mt38S3nTXFar",
        "outputId": "6b8c06ac-e47c-4490-da78-efa632b19db5"
      },
      "execution_count": null,
      "outputs": [
        {
          "output_type": "display_data",
          "data": {
            "text/plain": [
              "<Figure size 640x480 with 2 Axes>"
            ],
            "image/png": "[encoded data removed]"
          },
          "metadata": {}
        }
      ]
    },
    {
      "cell_type": "code",
      "source": [
        "num_samples=500\n",
        "num_features=200\n",
        "\n",
        "allMem=[]\n",
        "allLat=[]\n",
        "logRange=range(3,14)\n",
        "for i in logRange:\n",
        "  tile_size0=2**i\n",
        "  tile_size1=8192/tile_size0\n",
        "\n",
        "  lat,mem=linearRegressionStats(num_samples,num_features, tile_size0, tile_size1)\n",
        "  allLat.append(lat)\n",
        "  allMem.append(mem)\n",
        "\n",
        "plotGraphs(logRange, allLat, allMem)"
      ],
      "metadata": {
        "id": "_aDCIh9JeoIL",
        "colab": {
          "base_uri": "https://localhost:8080/",
          "height": 449
        },
        "outputId": "ddc1252b-1228-4ecc-8f64-b428a650ac9e"
      },
      "execution_count": null,
      "outputs": [
        {
          "output_type": "display_data",
          "data": {
            "text/plain": [
              "<Figure size 640x480 with 2 Axes>"
            ],
            "image/png": "[encoded data removed]"
          },
          "metadata": {}
        }
      ]
    },
    {
      "cell_type": "markdown",
      "metadata": {
        "id": "de9kpOI2U2TR"
      },
      "source": [
        "\n",
        "## Step 5. Up next\n",
        "\n",
        "In the above examples, we saw how even for a simple operation like linear regression the different packing have high effect on the number of tiles and thus on the number of operations.\n",
        "In the next notebook we are going to see how different packing options affect the performance of our code."
      ]
    }
  ],
  "metadata": {
    "interpreter": {
      "hash": "31f2aee4e71d21fbe5cf8b01ff0e069b9275f58929596ceb00d14d90e3e16cd6"
    },
    "kernelspec": {
      "display_name": "Python 3",
      "language": "python",
      "name": "python3"
    },
    "language_info": {
      "codemirror_mode": {
        "name": "ipython",
        "version": 3
      },
      "file_extension": ".py",
      "mimetype": "text/x-python",
      "name": "python",
      "nbconvert_exporter": "python",
      "pygments_lexer": "ipython3",
      "version": "3.6.9"
    },
    "colab": {
      "provenance": [],
      "include_colab_link": true
    }
  },
  "nbformat": 4,
  "nbformat_minor": 0
}